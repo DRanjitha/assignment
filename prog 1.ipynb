{
 "cells": [
  {
   "cell_type": "code",
   "execution_count": 1,
   "metadata": {},
   "outputs": [
    {
     "name": "stdout",
     "output_type": "stream",
     "text": [
      "Hello, Ranjitha\n"
     ]
    }
   ],
   "source": [
    "print(\"Hello, Ranjitha\")"
   ]
  },
  {
   "cell_type": "code",
   "execution_count": 2,
   "metadata": {},
   "outputs": [
    {
     "name": "stdout",
     "output_type": "stream",
     "text": [
      "programming is a important skill for data science\n"
     ]
    }
   ],
   "source": [
    "print(\"programming is a important skill for data science\")"
   ]
  },
  {
   "cell_type": "code",
   "execution_count": 3,
   "metadata": {},
   "outputs": [
    {
     "name": "stdout",
     "output_type": "stream",
     "text": [
      "programming is a important skill for data science\n",
      "staticts is a important skill for data science\n",
      "bussines domin is a important skill for data science\n"
     ]
    }
   ],
   "source": [
    "print(\"programming is a important skill for data science\")\n",
    "print(\"staticts is a important skill for data science\")\n",
    "print(\"bussines domin is a important skill for data science\")"
   ]
  },
  {
   "cell_type": "code",
   "execution_count": 6,
   "metadata": {},
   "outputs": [
    {
     "name": "stdout",
     "output_type": "stream",
     "text": [
      "staticts is a important skill for data science\n"
     ]
    }
   ],
   "source": [
    "x=0\n",
    "if x == 1:\n",
    "     print(\"programming is a important skill for data science\")\n",
    "else:\n",
    "    print(\"staticts is a important skill for data science\")\n"
   ]
  },
  {
   "cell_type": "code",
   "execution_count": 7,
   "metadata": {},
   "outputs": [
    {
     "name": "stdout",
     "output_type": "stream",
     "text": [
      "programming is a important skill for data science\n"
     ]
    }
   ],
   "source": [
    "x=1\n",
    "if x == 1:\n",
    "     print(\"programming is a important skill for data science\")\n",
    "else:\n",
    "     print(\" staticts is a important skill for data science\")"
   ]
  },
  {
   "cell_type": "code",
   "execution_count": null,
   "metadata": {},
   "outputs": [],
   "source": []
  }
 ],
 "metadata": {
  "kernelspec": {
   "display_name": "Python 3",
   "language": "python",
   "name": "python3"
  },
  "language_info": {
   "codemirror_mode": {
    "name": "ipython",
    "version": 3
   },
   "file_extension": ".py",
   "mimetype": "text/x-python",
   "name": "python",
   "nbconvert_exporter": "python",
   "pygments_lexer": "ipython3",
   "version": "3.8.3"
  }
 },
 "nbformat": 4,
 "nbformat_minor": 4
}
